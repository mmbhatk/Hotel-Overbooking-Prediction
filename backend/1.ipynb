{
 "cells": [
  {
   "cell_type": "code",
   "execution_count": 1,
   "metadata": {},
   "outputs": [],
   "source": [
    "import pandas as pd\n",
    "import numpy as np\n",
    "import warnings\n",
    "warnings.filterwarnings('ignore')"
   ]
  },
  {
   "cell_type": "code",
   "execution_count": 2,
   "metadata": {},
   "outputs": [
    {
     "data": {
      "text/plain": [
       "Index(['IsCanceled', 'LeadTime', 'ArrivalDateYear', 'ArrivalDateMonth',\n",
       "       'ArrivalDateWeekNumber', 'ArrivalDateDayOfMonth',\n",
       "       'StaysInWeekendNights', 'StaysInWeekNights', 'Adults', 'Children',\n",
       "       'Babies', 'Meal', 'Country', 'MarketSegment', 'DistributionChannel',\n",
       "       'IsRepeatedGuest', 'PreviousCancellations',\n",
       "       'PreviousBookingsNotCanceled', 'ReservedRoomType', 'AssignedRoomType',\n",
       "       'BookingChanges', 'DepositType', 'Agent', 'Company',\n",
       "       'DaysInWaitingList', 'CustomerType', 'ADR', 'RequiredCarParkingSpaces',\n",
       "       'TotalOfSpecialRequests', 'ReservationStatus', 'ReservationStatusDate'],\n",
       "      dtype='object')"
      ]
     },
     "execution_count": 2,
     "metadata": {},
     "output_type": "execute_result"
    }
   ],
   "source": [
    "df = pd.read_csv('../data/H1.csv')\n",
    "df.append(pd.read_csv('../data/H2.csv'))\n",
    "df.columns"
   ]
  },
  {
   "cell_type": "code",
   "execution_count": 3,
   "metadata": {},
   "outputs": [
    {
     "name": "stdout",
     "output_type": "stream",
     "text": [
      "(40060, 30)\n",
      "(40060,)\n",
      "<class 'numpy.ndarray'>\n"
     ]
    }
   ],
   "source": [
    "X = df.iloc[:, df.columns!='ReservationStatus']\n",
    "y = df.iloc[:, -2]\n",
    "print(X.shape)\n",
    "print(y.shape)\n",
    "print(type(y.values))"
   ]
  },
  {
   "cell_type": "code",
   "execution_count": 4,
   "metadata": {},
   "outputs": [],
   "source": [
    "y, labels = pd.factorize(y.values)"
   ]
  },
  {
   "cell_type": "code",
   "execution_count": 5,
   "metadata": {},
   "outputs": [],
   "source": [
    "y = pd.Series(y)"
   ]
  },
  {
   "cell_type": "code",
   "execution_count": 6,
   "metadata": {},
   "outputs": [
    {
     "data": {
      "text/plain": [
       "Index(['IsCanceled', 'LeadTime', 'ArrivalDateYear', 'ArrivalDateMonth',\n",
       "       'ArrivalDateWeekNumber', 'ArrivalDateDayOfMonth',\n",
       "       'StaysInWeekendNights', 'StaysInWeekNights', 'Adults', 'Children',\n",
       "       'Babies', 'Meal', 'Country', 'MarketSegment', 'DistributionChannel',\n",
       "       'IsRepeatedGuest', 'PreviousCancellations',\n",
       "       'PreviousBookingsNotCanceled', 'ReservedRoomType', 'AssignedRoomType',\n",
       "       'BookingChanges', 'DepositType', 'Agent', 'Company',\n",
       "       'DaysInWaitingList', 'CustomerType', 'ADR', 'RequiredCarParkingSpaces',\n",
       "       'TotalOfSpecialRequests', 'ReservationStatusDate'],\n",
       "      dtype='object')"
      ]
     },
     "execution_count": 6,
     "metadata": {},
     "output_type": "execute_result"
    }
   ],
   "source": [
    "X.columns"
   ]
  },
  {
   "cell_type": "code",
   "execution_count": 7,
   "metadata": {},
   "outputs": [],
   "source": [
    "categorical = ['Agent', 'ArrivalDateMonth', 'Meal', 'Country', 'MarketSegment', 'DistributionChannel', 'ReservedRoomType', 'AssignedRoomType', 'DepositType', 'CustomerType', 'ArrivalDateYear']"
   ]
  },
  {
   "cell_type": "code",
   "execution_count": 8,
   "metadata": {
    "scrolled": true
   },
   "outputs": [
    {
     "data": {
      "text/plain": [
       "       NULL    36952\n",
       "        223      784\n",
       "        281      138\n",
       "        154      133\n",
       "        405      100\n",
       "         94       87\n",
       "        135       64\n",
       "        498       58\n",
       "        331       58\n",
       "         47       56\n",
       "        110       51\n",
       "         20       50\n",
       "        342       48\n",
       "        270       43\n",
       "        195       38\n",
       "        174       36\n",
       "        113       36\n",
       "        204       34\n",
       "        307       34\n",
       "        269       33\n",
       "         86       32\n",
       "        308       32\n",
       "        343       29\n",
       "        178       27\n",
       "        169       26\n",
       "        337       25\n",
       "        507       23\n",
       "          9       22\n",
       "         88       22\n",
       "        477       22\n",
       "               ...  \n",
       "        520        1\n",
       "        407        1\n",
       "        373        1\n",
       "        413        1\n",
       "        410        1\n",
       "        496        1\n",
       "        386        1\n",
       "         80        1\n",
       "        126        1\n",
       "        242        1\n",
       "        102        1\n",
       "        109        1\n",
       "        318        1\n",
       "        425        1\n",
       "        501        1\n",
       "        193        1\n",
       "        478        1\n",
       "        104        1\n",
       "        454        1\n",
       "        506        1\n",
       "        218        1\n",
       "        278        1\n",
       "        184        1\n",
       "        419        1\n",
       "        347        1\n",
       "        435        1\n",
       "        398        1\n",
       "        212        1\n",
       "        461        1\n",
       "        415        1\n",
       "Name: Company, Length: 236, dtype: int64"
      ]
     },
     "execution_count": 8,
     "metadata": {},
     "output_type": "execute_result"
    }
   ],
   "source": [
    "X.Company.value_counts()"
   ]
  },
  {
   "cell_type": "code",
   "execution_count": 9,
   "metadata": {},
   "outputs": [],
   "source": [
    "#Dropping the column Company\n",
    "X.drop(['Company'], axis = 1, inplace = True)"
   ]
  },
  {
   "cell_type": "code",
   "execution_count": 10,
   "metadata": {},
   "outputs": [],
   "source": [
    "#Dropping the column IsCancelled\n",
    "X.drop(['IsCanceled'], axis = 1, inplace = True)"
   ]
  },
  {
   "cell_type": "code",
   "execution_count": 11,
   "metadata": {},
   "outputs": [],
   "source": [
    "#Dropping the column ReservationStatusDate\n",
    "X.drop(['ReservationStatusDate'], axis = 1, inplace = True)"
   ]
  },
  {
   "cell_type": "code",
   "execution_count": 12,
   "metadata": {},
   "outputs": [],
   "source": [
    "#Dropping the column Children\n",
    "X.drop(['Children'], axis = 1, inplace = True)"
   ]
  },
  {
   "cell_type": "code",
   "execution_count": 13,
   "metadata": {},
   "outputs": [],
   "source": [
    "#for cat in categorical:\n",
    "#    X[cat], l = pd.factorize(X[cat])"
   ]
  },
  {
   "cell_type": "code",
   "execution_count": 14,
   "metadata": {},
   "outputs": [],
   "source": [
    "X = pd.get_dummies(X, columns = categorical, drop_first=True)"
   ]
  },
  {
   "cell_type": "code",
   "execution_count": 15,
   "metadata": {},
   "outputs": [
    {
     "data": {
      "text/plain": [
       "Index(['LeadTime', 'ArrivalDateWeekNumber', 'ArrivalDateDayOfMonth',\n",
       "       'StaysInWeekendNights', 'StaysInWeekNights', 'Adults', 'Babies',\n",
       "       'IsRepeatedGuest', 'PreviousCancellations',\n",
       "       'PreviousBookingsNotCanceled',\n",
       "       ...\n",
       "       'AssignedRoomType_I               ',\n",
       "       'AssignedRoomType_L               ',\n",
       "       'AssignedRoomType_P               ', 'DepositType_Non Refund     ',\n",
       "       'DepositType_Refundable     ', 'CustomerType_Group',\n",
       "       'CustomerType_Transient', 'CustomerType_Transient-Party',\n",
       "       'ArrivalDateYear_2016', 'ArrivalDateYear_2017'],\n",
       "      dtype='object', length=373)"
      ]
     },
     "execution_count": 15,
     "metadata": {},
     "output_type": "execute_result"
    }
   ],
   "source": [
    "X.columns"
   ]
  },
  {
   "cell_type": "code",
   "execution_count": 16,
   "metadata": {},
   "outputs": [],
   "source": [
    "from sklearn.model_selection import train_test_split\n",
    "X_train, X_test, y_train, y_test = train_test_split(X, y, test_size = 0.25, random_state = 42)"
   ]
  },
  {
   "cell_type": "code",
   "execution_count": 17,
   "metadata": {},
   "outputs": [
    {
     "name": "stdout",
     "output_type": "stream",
     "text": [
      "   LeadTime  ArrivalDateWeekNumber  ArrivalDateDayOfMonth  \\\n",
      "0       342                     27                      1   \n",
      "1       737                     27                      1   \n",
      "2         7                     27                      1   \n",
      "3        13                     27                      1   \n",
      "4        14                     27                      1   \n",
      "\n",
      "   StaysInWeekendNights  StaysInWeekNights  Adults  Babies  IsRepeatedGuest  \\\n",
      "0                     0                  0       2       0                0   \n",
      "1                     0                  0       2       0                0   \n",
      "2                     0                  1       1       0                0   \n",
      "3                     0                  1       1       0                0   \n",
      "4                     0                  2       2       0                0   \n",
      "\n",
      "   PreviousCancellations  PreviousBookingsNotCanceled          ...           \\\n",
      "0                      0                            0          ...            \n",
      "1                      0                            0          ...            \n",
      "2                      0                            0          ...            \n",
      "3                      0                            0          ...            \n",
      "4                      0                            0          ...            \n",
      "\n",
      "   AssignedRoomType_I                 AssignedRoomType_L                 \\\n",
      "0                                  0                                  0   \n",
      "1                                  0                                  0   \n",
      "2                                  0                                  0   \n",
      "3                                  0                                  0   \n",
      "4                                  0                                  0   \n",
      "\n",
      "   AssignedRoomType_P                 DepositType_Non Refund       \\\n",
      "0                                  0                            0   \n",
      "1                                  0                            0   \n",
      "2                                  0                            0   \n",
      "3                                  0                            0   \n",
      "4                                  0                            0   \n",
      "\n",
      "   DepositType_Refundable       CustomerType_Group  CustomerType_Transient  \\\n",
      "0                            0                   0                       1   \n",
      "1                            0                   0                       1   \n",
      "2                            0                   0                       1   \n",
      "3                            0                   0                       1   \n",
      "4                            0                   0                       1   \n",
      "\n",
      "   CustomerType_Transient-Party  ArrivalDateYear_2016  ArrivalDateYear_2017  \n",
      "0                             0                     0                     0  \n",
      "1                             0                     0                     0  \n",
      "2                             0                     0                     0  \n",
      "3                             0                     0                     0  \n",
      "4                             0                     0                     0  \n",
      "\n",
      "[5 rows x 373 columns]\n"
     ]
    }
   ],
   "source": [
    "print(X.head())"
   ]
  },
  {
   "cell_type": "code",
   "execution_count": 18,
   "metadata": {},
   "outputs": [],
   "source": [
    "from sklearn.preprocessing import StandardScaler  \n",
    "feature_scaler = StandardScaler()\n",
    "X_train = feature_scaler.fit_transform(X_train)\n",
    "X_test = feature_scaler.transform(X_test)"
   ]
  },
  {
   "cell_type": "code",
   "execution_count": 19,
   "metadata": {},
   "outputs": [
    {
     "name": "stderr",
     "output_type": "stream",
     "text": [
      "/home/manasvi/anaconda3/lib/python3.7/site-packages/sklearn/ensemble/weight_boosting.py:29: DeprecationWarning: numpy.core.umath_tests is an internal NumPy module and should not be imported. It will be removed in a future NumPy release.\n",
      "  from numpy.core.umath_tests import inner1d\n"
     ]
    }
   ],
   "source": [
    "from sklearn.ensemble import RandomForestClassifier\n",
    "clf = RandomForestClassifier(n_estimators = 10, random_state = 0)\n",
    "clf.fit(X_train, y_train)\n",
    "y_pred = clf.predict(X_test);"
   ]
  },
  {
   "cell_type": "code",
   "execution_count": 20,
   "metadata": {},
   "outputs": [
    {
     "name": "stdout",
     "output_type": "stream",
     "text": [
      "0.890564153769346\n"
     ]
    }
   ],
   "source": [
    "from sklearn.metrics import accuracy_score\n",
    "print(accuracy_score(y_pred, y_test))"
   ]
  },
  {
   "cell_type": "code",
   "execution_count": 21,
   "metadata": {},
   "outputs": [
    {
     "data": {
      "text/plain": [
       "array([0.86526946, 0.87019471, 0.86769845, 0.87718422, 0.86763237])"
      ]
     },
     "execution_count": 21,
     "metadata": {},
     "output_type": "execute_result"
    }
   ],
   "source": [
    "from sklearn.model_selection import cross_val_score  \n",
    "all_accuracies = cross_val_score(estimator = clf, X = X_test, y = y_test, cv = 5)\n",
    "all_accuracies"
   ]
  }
 ],
 "metadata": {
  "kernelspec": {
   "display_name": "Python 3",
   "language": "python",
   "name": "python3"
  },
  "language_info": {
   "codemirror_mode": {
    "name": "ipython",
    "version": 3
   },
   "file_extension": ".py",
   "mimetype": "text/x-python",
   "name": "python",
   "nbconvert_exporter": "python",
   "pygments_lexer": "ipython3",
   "version": "3.7.2"
  }
 },
 "nbformat": 4,
 "nbformat_minor": 2
}
